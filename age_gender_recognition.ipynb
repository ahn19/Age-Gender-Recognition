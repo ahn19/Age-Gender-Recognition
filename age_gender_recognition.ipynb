{
 "cells": [
  {
   "cell_type": "code",
   "execution_count": null,
   "metadata": {},
   "outputs": [],
   "source": [
    "import cv2\n",
    "import dlib\n",
    "\n",
    "from os.path import join"
   ]
  },
  {
   "cell_type": "code",
   "execution_count": null,
   "metadata": {},
   "outputs": [],
   "source": [
    "def load_model(model_path, caffemodel, prototxt):\n",
    "    caffemodel_path = join(model_path, caffemodel)\n",
    "    prototxt_path = join(model_path, prototxt)\n",
    "    model = cv2.dnn.readNet(prototxt_path, caffemodel_path)\n",
    "\n",
    "    return model\n",
    "\n",
    "\n",
    "def predict(model, img, height, width):\n",
    "    face_blob = cv2.dnn.blobFromImage(img, 1.0, (height, width), (0.485, 0.456, 0.406))\n",
    "    model.setInput(face_blob)\n",
    "    predictions = model.forward()\n",
    "    class_num = predictions[0].argmax()\n",
    "    confidence = predictions[0][class_num]\n",
    "\n",
    "    return class_num, confidence"
   ]
  },
  {
   "cell_type": "code",
   "execution_count": null,
   "metadata": {},
   "outputs": [],
   "source": [
    "detector = dlib.get_frontal_face_detector()\n",
    "font, fontScale, fontColor, lineType = cv2.FONT_HERSHEY_SIMPLEX, 1, (0, 255, 0), 2\n",
    "\n",
    "input_height = 224\n",
    "input_width = 224\n",
    "\n",
    "# load gender model\n",
    "gender_model_path = 'models/gender'\n",
    "gender_caffemodel = 'gender.caffemodel'\n",
    "gender_prototxt = 'gender.prototxt'\n",
    "gender_model = load_model(gender_model_path, gender_caffemodel, gender_prototxt)\n",
    "\n",
    "# load age model\n",
    "age_model_path = 'models/age'\n",
    "age_caffemodel = 'dex_chalearn_iccv2015.caffemodel'\n",
    "age_prototxt = 'age.prototxt'\n",
    "age_model = load_model(age_model_path, age_caffemodel, age_prototxt)"
   ]
  },
  {
   "cell_type": "code",
   "execution_count": null,
   "metadata": {},
   "outputs": [],
   "source": [
    "cap = cv2.VideoCapture(0)\n",
    "\n",
    "while cap.isOpened():\n",
    "    try:\n",
    "        _, frame_bgr = cap.read()\n",
    "\n",
    "        if frame_bgr is not None:\n",
    "            frame_rgb = cv2.cvtColor(frame_bgr, cv2.COLOR_BGR2RGB)\n",
    "            faces = detector(frame_rgb, 1)\n",
    "\n",
    "            for d in faces:\n",
    "                left = int(0.6 * d.left())     # + 40% margin\n",
    "                top = int(0.6 * d.top())       # + 40% margin\n",
    "                right = int(1.4 * d.right())   # + 40% margin\n",
    "                bottom = int(1.4 * d.bottom()) # + 40% margin\n",
    "                face_segm = frame_rgb[top:bottom, left:right]\n",
    "                gender, gender_confidence = predict(gender_model, face_segm, input_height, input_width)\n",
    "                age, age_confidence = predict(age_model, face_segm, input_height, input_width)\n",
    "                gender = 'man' if gender == 1 else 'woman'\n",
    "                text = '{} ({:.2f}%) {} ({:.2f}%)'.format(gender, gender_confidence*100, age-5, age_confidence*100)\n",
    "                cv2.putText(frame_bgr, text, (d.left(), d.top() - 20), font, fontScale, fontColor, lineType)\n",
    "                cv2.rectangle(frame_bgr, (d.left(), d.top()), (d.right(), d.bottom()), fontColor, 2)\n",
    "\n",
    "        cv2.imshow('frame', frame_bgr)\n",
    "        if cv2.waitKey(1) & 0xFF == ord('q'):\n",
    "            break\n",
    "    except:\n",
    "        print('Got a bad image, skipping the frame')\n",
    "\n",
    "cap.release()\n",
    "cv2.destroyAllWindows()"
   ]
  },
  {
   "cell_type": "code",
   "execution_count": null,
   "metadata": {},
   "outputs": [],
   "source": []
  }
 ],
 "metadata": {
  "kernelspec": {
   "display_name": "Python 3",
   "language": "python",
   "name": "python3"
  },
  "language_info": {
   "codemirror_mode": {
    "name": "ipython",
    "version": 3
   },
   "file_extension": ".py",
   "mimetype": "text/x-python",
   "name": "python",
   "nbconvert_exporter": "python",
   "pygments_lexer": "ipython3",
   "version": "3.7.6"
  }
 },
 "nbformat": 4,
 "nbformat_minor": 4
}
